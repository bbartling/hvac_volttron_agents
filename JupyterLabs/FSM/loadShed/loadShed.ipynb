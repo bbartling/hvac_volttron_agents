{
 "cells": [
  {
   "cell_type": "markdown",
   "metadata": {},
   "source": [
    "# SIMULATION OF THE LOAD SHED VOLTTRON AGENT IN FSM FORM"
   ]
  },
  {
   "cell_type": "code",
   "execution_count": 1,
   "metadata": {},
   "outputs": [],
   "source": [
    "import os, sys, inspect, io\n",
    "from transitions import *\n",
    "from transitions.extensions import GraphMachine\n",
    "from IPython.display import Image, display, display_png\n",
    "\n",
    "\n",
    "class MakeChart():\n",
    "    \n",
    "    def show_graph(self, **kwargs):\n",
    "        stream = io.BytesIO()\n",
    "        self.get_graph(**kwargs).draw(stream, prog='dot', format='png')\n",
    "        display(Image(stream.getvalue()))\n",
    "\n",
    "class loadShedProgram(MakeChart):\n",
    "    \n",
    "    def __init__(self):\n",
    "        \n",
    "        self.bacnet_releases_complete = False\n",
    "        self.bacnet_overrides_complete = False\n",
    "        self.load_shed_status = False    \n",
    "        self.building_occupied = False"
   ]
  },
  {
   "cell_type": "code",
   "execution_count": 2,
   "metadata": {},
   "outputs": [],
   "source": [
    "transitions = [\n",
    "\n",
    "    # APPLY BACnet commands: demand response event is True go into BACnet Override Mode from Standby mode\n",
    "    {'trigger': 'update', 'source': 'Standby', 'dest': 'BACnet_Override', 'conditions':'load_shed_status', 'unless':['bacnet_overrides_complete','bacnet_releases_complete']},\n",
    "    \n",
    "    # WAIT OUT DR EVENT: demand response event is True, overrides have been applied, wait for event to expire\n",
    "    {'trigger': 'update', 'source': 'BACnet_Override', 'dest': 'Wait_For_Expiration', 'conditions':['bacnet_overrides_complete','load_shed_status'],'unless':'bacnet_releases_complete'},\n",
    "    \n",
    "    # RELEASE BACnet commands: demand response event has expired by demand response event going False, BACnet Overrides True, BACnet Releases False\n",
    "    {'trigger': 'update', 'source': 'Wait_For_Expiration', 'dest': 'BACnet_Release', 'conditions':'bacnet_overrides_complete','unless':['load_shed_status','bacnet_releases_complete']},    \n",
    "    \n",
    "    # WAIT for building to go Unnocupied to reset parameters\n",
    "    {'trigger': 'update', 'source': 'BACnet_Release', 'dest': 'Wait_For_Unnocupied', 'conditions':['bacnet_overrides_complete','bacnet_releases_complete','building_occupied'],'unless':'load_shed_status'},\n",
    "    \n",
    "    # RESET programming parameters\n",
    "    {'trigger': 'update', 'source': 'Wait_For_Unnocupied', 'dest': 'Reset_Params', 'conditions':['bacnet_overrides_complete','bacnet_releases_complete'],'unless':['building_occupied','load_shed_status']},\n",
    "    \n",
    "    # Go Back to STANDBY: program is ready for next demand response event\n",
    "    {'trigger': 'update', 'source': 'Reset_Params', 'dest': 'Standby','unless':['bacnet_overrides_complete','bacnet_releases_complete','building_occupied','load_shed_status']}\n",
    "]\n",
    "\n",
    "\n",
    "states = ['Standby','BACnet_Override','Wait_For_Expiration','BACnet_Release','Wait_For_Unnocupied','Reset_Params']"
   ]
  },
  {
   "cell_type": "code",
   "execution_count": 3,
   "metadata": {},
   "outputs": [
    {
     "data": {
      "image/png": "[encoded data removed]",
      "text/plain": [
       "<IPython.core.display.Image object>"
      ]
     },
     "metadata": {},
     "output_type": "display_data"
    }
   ],
   "source": [
    "model = loadShedProgram()\n",
    "machine = GraphMachine(model=model, states=states, transitions=transitions, initial='Standby')\n",
    "model.show_graph()"
   ]
  },
  {
   "cell_type": "code",
   "execution_count": 4,
   "metadata": {},
   "outputs": [
    {
     "name": "stdout",
     "output_type": "stream",
     "text": [
      "The Finite State Machine is in:  Standby\n"
     ]
    }
   ],
   "source": [
    "print(\"The Finite State Machine is in: \", model.state)"
   ]
  },
  {
   "cell_type": "markdown",
   "metadata": {},
   "source": [
    "# Simulate building going into Occupied mode "
   ]
  },
  {
   "cell_type": "markdown",
   "metadata": {},
   "source": [
    "* In the real world this would be a BACnet read to the BAS, like an AHU system went occupied True or some global BACnet Occ variable"
   ]
  },
  {
   "cell_type": "code",
   "execution_count": 5,
   "metadata": {},
   "outputs": [],
   "source": [
    "model.building_occupied = True"
   ]
  },
  {
   "cell_type": "markdown",
   "metadata": {},
   "source": [
    "# Simulate building is occupied and there is no demand response event"
   ]
  },
  {
   "cell_type": "code",
   "execution_count": 6,
   "metadata": {},
   "outputs": [
    {
     "name": "stdout",
     "output_type": "stream",
     "text": [
      "model.bacnet_releases_complete:  False\n",
      "model.bacnet_overrides_complete:  False\n",
      "model.load_shed_status:  False\n",
      "model.building_occupied:  True\n"
     ]
    }
   ],
   "source": [
    "print(\"model.bacnet_releases_complete: \", model.bacnet_releases_complete)\n",
    "print(\"model.bacnet_overrides_complete: \", model.bacnet_overrides_complete)\n",
    "print(\"model.load_shed_status: \", model.load_shed_status)\n",
    "print(\"model.building_occupied: \", model.building_occupied)"
   ]
  },
  {
   "cell_type": "code",
   "execution_count": 7,
   "metadata": {},
   "outputs": [
    {
     "name": "stdout",
     "output_type": "stream",
     "text": [
      "The Finite State Machine is in:  Standby\n"
     ]
    }
   ],
   "source": [
    "model.update()\n",
    "print(\"The Finite State Machine is in: \", model.state)"
   ]
  },
  {
   "cell_type": "markdown",
   "metadata": {},
   "source": [
    "# Simulate open ADR simple event True"
   ]
  },
  {
   "cell_type": "code",
   "execution_count": 8,
   "metadata": {},
   "outputs": [],
   "source": [
    "model.load_shed_status = True"
   ]
  },
  {
   "cell_type": "code",
   "execution_count": 9,
   "metadata": {},
   "outputs": [
    {
     "name": "stdout",
     "output_type": "stream",
     "text": [
      "model.bacnet_releases_complete:  False\n",
      "model.bacnet_overrides_complete:  False\n",
      "model.load_shed_status:  True\n",
      "model.building_occupied:  True\n"
     ]
    }
   ],
   "source": [
    "print(\"model.bacnet_releases_complete: \", model.bacnet_releases_complete)\n",
    "print(\"model.bacnet_overrides_complete: \", model.bacnet_overrides_complete)\n",
    "print(\"model.load_shed_status: \", model.load_shed_status)\n",
    "print(\"model.building_occupied: \", model.building_occupied)"
   ]
  },
  {
   "cell_type": "code",
   "execution_count": 10,
   "metadata": {},
   "outputs": [
    {
     "name": "stdout",
     "output_type": "stream",
     "text": [
      "The Finite State Machine is in:  BACnet_Override\n"
     ]
    }
   ],
   "source": [
    "model.update()\n",
    "print(\"The Finite State Machine is in: \", model.state)"
   ]
  },
  {
   "cell_type": "markdown",
   "metadata": {},
   "source": [
    "* FSM (above) went into BACnet_Override state which is the global setpoint adjust of the VAV boxes in the HVAC BAS zone temperature setpoints"
   ]
  },
  {
   "cell_type": "markdown",
   "metadata": {},
   "source": [
    "# Simulate that BACnet overrides have been applied to BAS, demand response event is still TRUE successfully, and the VOLTTRON agent program continues to check the API waiting for event to be False or payload signal == 0"
   ]
  },
  {
   "cell_type": "code",
   "execution_count": 11,
   "metadata": {},
   "outputs": [],
   "source": [
    "model.bacnet_overrides_complete = True"
   ]
  },
  {
   "cell_type": "code",
   "execution_count": 12,
   "metadata": {},
   "outputs": [
    {
     "name": "stdout",
     "output_type": "stream",
     "text": [
      "model.bacnet_releases_complete:  False\n",
      "model.bacnet_overrides_complete:  True\n",
      "model.load_shed_status:  True\n",
      "model.building_occupied:  True\n"
     ]
    }
   ],
   "source": [
    "print(\"model.bacnet_releases_complete: \", model.bacnet_releases_complete)\n",
    "print(\"model.bacnet_overrides_complete: \", model.bacnet_overrides_complete)\n",
    "print(\"model.load_shed_status: \", model.load_shed_status)\n",
    "print(\"model.building_occupied: \", model.building_occupied)"
   ]
  },
  {
   "cell_type": "code",
   "execution_count": 13,
   "metadata": {},
   "outputs": [
    {
     "name": "stdout",
     "output_type": "stream",
     "text": [
      "The Finite State Machine is in:  Wait_For_Expiration\n"
     ]
    }
   ],
   "source": [
    "model.update()\n",
    "print(\"The Finite State Machine is in: \", model.state)"
   ]
  },
  {
   "cell_type": "markdown",
   "metadata": {},
   "source": [
    "* FSM above went back to \"Wait_For_Expiration\" state after BACnet global setpoint adjust commands have been successfully implemented, just need to wait out the demand response event"
   ]
  },
  {
   "cell_type": "markdown",
   "metadata": {},
   "source": [
    "# Simulate demand response event expired"
   ]
  },
  {
   "cell_type": "code",
   "execution_count": 14,
   "metadata": {},
   "outputs": [],
   "source": [
    "model.load_shed_status = False"
   ]
  },
  {
   "cell_type": "code",
   "execution_count": 15,
   "metadata": {},
   "outputs": [
    {
     "name": "stdout",
     "output_type": "stream",
     "text": [
      "model.bacnet_releases_complete:  False\n",
      "model.bacnet_overrides_complete:  True\n",
      "model.load_shed_status:  False\n",
      "model.building_occupied:  True\n"
     ]
    }
   ],
   "source": [
    "print(\"model.bacnet_releases_complete: \", model.bacnet_releases_complete)\n",
    "print(\"model.bacnet_overrides_complete: \", model.bacnet_overrides_complete)\n",
    "print(\"model.load_shed_status: \", model.load_shed_status)\n",
    "print(\"model.building_occupied: \", model.building_occupied)"
   ]
  },
  {
   "cell_type": "markdown",
   "metadata": {},
   "source": [
    "* note above overrides are still on the BAS and we now need to release them"
   ]
  },
  {
   "cell_type": "code",
   "execution_count": 16,
   "metadata": {},
   "outputs": [
    {
     "name": "stdout",
     "output_type": "stream",
     "text": [
      "The Finite State Machine is in:  BACnet_Release\n"
     ]
    }
   ],
   "source": [
    "model.update()\n",
    "print(\"The Finite State Machine is in: \", model.state)"
   ]
  },
  {
   "cell_type": "markdown",
   "metadata": {},
   "source": [
    "* program went into BACnet release as expected"
   ]
  },
  {
   "cell_type": "markdown",
   "metadata": {},
   "source": [
    "# Simulate BACnet release of BAS successful"
   ]
  },
  {
   "cell_type": "code",
   "execution_count": 17,
   "metadata": {},
   "outputs": [],
   "source": [
    "model.bacnet_releases_complete = True"
   ]
  },
  {
   "cell_type": "code",
   "execution_count": 18,
   "metadata": {},
   "outputs": [
    {
     "name": "stdout",
     "output_type": "stream",
     "text": [
      "model.bacnet_releases_complete:  True\n",
      "model.bacnet_overrides_complete:  True\n",
      "model.load_shed_status:  False\n",
      "model.building_occupied:  True\n"
     ]
    }
   ],
   "source": [
    "print(\"model.bacnet_releases_complete: \", model.bacnet_releases_complete)\n",
    "print(\"model.bacnet_overrides_complete: \", model.bacnet_overrides_complete)\n",
    "print(\"model.load_shed_status: \", model.load_shed_status)\n",
    "print(\"model.building_occupied: \", model.building_occupied)"
   ]
  },
  {
   "cell_type": "code",
   "execution_count": 19,
   "metadata": {},
   "outputs": [
    {
     "name": "stdout",
     "output_type": "stream",
     "text": [
      "The Finite State Machine is in:  Wait_For_Unnocupied\n"
     ]
    }
   ],
   "source": [
    "model.update()\n",
    "print(\"The Finite State Machine is in: \", model.state)"
   ]
  },
  {
   "cell_type": "markdown",
   "metadata": {},
   "source": [
    "* note so the building systems would be a in a \"rebound\" mode HVAC system back to normal, wait out for the building to go unnocupied to reset params"
   ]
  },
  {
   "cell_type": "markdown",
   "metadata": {},
   "source": [
    "# Simulate building going to Unnocupied Mode as defined from BAS"
   ]
  },
  {
   "cell_type": "code",
   "execution_count": 20,
   "metadata": {},
   "outputs": [],
   "source": [
    "model.building_occupied = False"
   ]
  },
  {
   "cell_type": "code",
   "execution_count": 21,
   "metadata": {},
   "outputs": [
    {
     "name": "stdout",
     "output_type": "stream",
     "text": [
      "model.bacnet_releases_complete:  True\n",
      "model.bacnet_overrides_complete:  True\n",
      "model.load_shed_status:  False\n",
      "model.building_occupied:  False\n"
     ]
    }
   ],
   "source": [
    "print(\"model.bacnet_releases_complete: \", model.bacnet_releases_complete)\n",
    "print(\"model.bacnet_overrides_complete: \", model.bacnet_overrides_complete)\n",
    "print(\"model.load_shed_status: \", model.load_shed_status)\n",
    "print(\"model.building_occupied: \", model.building_occupied)"
   ]
  },
  {
   "cell_type": "code",
   "execution_count": 22,
   "metadata": {},
   "outputs": [
    {
     "name": "stdout",
     "output_type": "stream",
     "text": [
      "The Finite State Machine is in:  Reset_Params\n"
     ]
    }
   ],
   "source": [
    "model.update()\n",
    "print(\"The Finite State Machine is in: \", model.state)"
   ]
  },
  {
   "cell_type": "markdown",
   "metadata": {},
   "source": [
    "* now that the building is unnocupied HVAC is off, reset all params"
   ]
  },
  {
   "cell_type": "code",
   "execution_count": 23,
   "metadata": {},
   "outputs": [],
   "source": [
    "model.bacnet_overrides_complete = False\n",
    "model.bacnet_releases_complete = False"
   ]
  },
  {
   "cell_type": "code",
   "execution_count": 24,
   "metadata": {},
   "outputs": [
    {
     "name": "stdout",
     "output_type": "stream",
     "text": [
      "The Finite State Machine is in:  Standby\n"
     ]
    }
   ],
   "source": [
    "model.update()\n",
    "print(\"The Finite State Machine is in: \", model.state)"
   ]
  },
  {
   "cell_type": "markdown",
   "metadata": {},
   "source": [
    "# READY for next event"
   ]
  },
  {
   "cell_type": "code",
   "execution_count": null,
   "metadata": {},
   "outputs": [],
   "source": []
  }
 ],
 "metadata": {
  "kernelspec": {
   "display_name": "Python 3",
   "language": "python",
   "name": "python3"
  },
  "language_info": {
   "codemirror_mode": {
    "name": "ipython",
    "version": 3
   },
   "file_extension": ".py",
   "mimetype": "text/x-python",
   "name": "python",
   "nbconvert_exporter": "python",
   "pygments_lexer": "ipython3",
   "version": "3.8.5"
  }
 },
 "nbformat": 4,
 "nbformat_minor": 4
}
